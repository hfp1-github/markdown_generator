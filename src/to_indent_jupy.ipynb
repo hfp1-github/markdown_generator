{
 "metadata": {
  "language_info": {
   "codemirror_mode": {
    "name": "ipython",
    "version": 3
   },
   "file_extension": ".py",
   "mimetype": "text/x-python",
   "name": "python",
   "nbconvert_exporter": "python",
   "pygments_lexer": "ipython3",
   "version": "3.6.8-final"
  },
  "orig_nbformat": 2,
  "kernelspec": {
   "name": "python3",
   "display_name": "Python 3.6.8 64-bit",
   "metadata": {
    "interpreter": {
     "hash": "bb156c1d31ce58c09a069341dfd4b23a4aabe5ee56c6959ab7acbab4b783ed7d"
    }
   }
  }
 },
 "nbformat": 4,
 "nbformat_minor": 2,
 "cells": [
  {
   "cell_type": "code",
   "execution_count": 5,
   "metadata": {},
   "outputs": [
    {
     "output_type": "execute_result",
     "data": {
      "text/plain": [
       "['\\n',\n",
       " 'h1. あ\\n',\n",
       " '\\n',\n",
       " '* 1あ\\n',\n",
       " '** 2いう\\n',\n",
       " '*** 3えお\\n',\n",
       " '\\u3000\\n',\n",
       " '* 1\\n',\n",
       " '** 2 * 2\\n',\n",
       " '* 3\\n',\n",
       " '44\\n',\n",
       " '55\\n',\n",
       " '** 66']"
      ]
     },
     "metadata": {},
     "execution_count": 5
    }
   ],
   "source": [
    "path = \"../test_tool/test_indent.txt\"\n",
    "with open(path, encoding='utf-8') as f:\n",
    "    data = f.readlines()\n",
    "data"
   ]
  },
  {
   "cell_type": "code",
   "execution_count": 6,
   "metadata": {},
   "outputs": [],
   "source": [
    "from typing import NamedTuple\n",
    "\n",
    "class MarkdownText(NamedTuple):\n",
    "    level: int\n",
    "    text: str\n",
    "\n",
    "\n",
    "def mt_to_indent_text(mt: MarkdownText, indent: str):\n",
    "    ret = indent * mt.level + mt.text\n",
    "    return ret\n"
   ]
  },
  {
   "cell_type": "code",
   "execution_count": 7,
   "metadata": {},
   "outputs": [],
   "source": [
    "import re\n",
    "import itertools\n",
    "\n",
    "level_word = r'*'\n",
    "re_level = re.compile(fr'(^\\{level_word}+\\s)(.*)')\n",
    "\n",
    "lines = []\n",
    "\n",
    "for l in data:\n",
    "    level_match = re_level.findall(l)\n",
    "    if level_match:\n",
    "        level_match = list(itertools.chain.from_iterable(level_match)) # flatten\n",
    "        level = level_match[0].count(level_word)\n",
    "        lines.append(MarkdownText(level, level_match[1]))"
   ]
  },
  {
   "cell_type": "code",
   "execution_count": 9,
   "metadata": {},
   "outputs": [
    {
     "output_type": "stream",
     "name": "stdout",
     "text": [
      "MarkdownText(level=1, text='1あ')\n/t1あ\nMarkdownText(level=2, text='2いう')\n/t/t2いう\nMarkdownText(level=3, text='3えお')\n/t/t/t3えお\nMarkdownText(level=1, text='1')\n/t1\nMarkdownText(level=2, text='2 * 2')\n/t/t2 * 2\nMarkdownText(level=1, text='3')\n/t3\nMarkdownText(level=2, text='66')\n/t/t66\n"
     ]
    }
   ],
   "source": [
    "indent = r'/t'\n",
    "\n",
    "for l in lines:\n",
    "    print(l)\n",
    "    print(mt_to_indent_text(l, indent))"
   ]
  },
  {
   "cell_type": "code",
   "execution_count": 25,
   "metadata": {},
   "outputs": [
    {
     "output_type": "execute_result",
     "data": {
      "text/plain": [
       "True"
      ]
     },
     "metadata": {},
     "execution_count": 25
    }
   ],
   "source": [
    "a = \"\"\"a  \n",
    "\"\"\"\n",
    "return_ends = \"\"\"  \n",
    "\"\"\"\n",
    "\n",
    "a.endswith(return_ends)"
   ]
  },
  {
   "cell_type": "code",
   "execution_count": 33,
   "metadata": {},
   "outputs": [
    {
     "output_type": "execute_result",
     "data": {
      "text/plain": [
       "''"
      ]
     },
     "metadata": {},
     "execution_count": 33
    }
   ],
   "source": [
    "\"    \\r\\n\".rstrip()"
   ]
  }
 ]
}